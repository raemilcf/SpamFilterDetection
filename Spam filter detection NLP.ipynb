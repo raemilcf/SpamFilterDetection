{
 "cells": [
  {
   "cell_type": "markdown",
   "metadata": {
    "id": "-hdwld8bybtg"
   },
   "source": [
    "## Get the Data\n",
    "\n",
    "1. Load Libraries\n",
    "2. Load the data\n",
    "3. check the data, dimensions, top 5 columns, and type of data"
   ]
  },
  {
   "cell_type": "code",
   "execution_count": 531,
   "metadata": {
    "id": "mIdEltONaNnW"
   },
   "outputs": [],
   "source": [
    "#load librarys\n",
    "import nltk\n",
    "import pandas as pd\n",
    "import re\n",
    "import seaborn as sns\n",
    "import matplotlib.pyplot as plt\n",
    "\n",
    "#nlp\n",
    "from sklearn.feature_extraction.text import TfidfVectorizer\n",
    "\n",
    "\n",
    "#machine learning\n",
    "from sklearn.model_selection import train_test_split\n",
    "from sklearn.preprocessing import LabelEncoder\n",
    "from sklearn.naive_bayes import MultinomialNB\n",
    "from sklearn.ensemble import RandomForestClassifier\n",
    "from sklearn.neural_network import MLPClassifier\n",
    "from sklearn.naive_bayes import BernoulliNB\n",
    "from sklearn.metrics import accuracy_score, precision_score, recall_score, f1_score\n",
    "\n",
    "#import  confusion matrix \n",
    "from sklearn.metrics import confusion_matrix\n"
   ]
  },
  {
   "cell_type": "markdown",
   "metadata": {
    "id": "r6ps4TLRyo69"
   },
   "source": [
    "2. Load the data"
   ]
  },
  {
   "cell_type": "code",
   "execution_count": 472,
   "metadata": {
    "id": "Z9ffQAmZyrUI"
   },
   "outputs": [],
   "source": [
    "#load data\n",
    "data = pd.read_csv(\"spam.csv\")\n"
   ]
  },
  {
   "cell_type": "markdown",
   "metadata": {
    "id": "y27SEaMnyt5r"
   },
   "source": [
    "3. check the data, dimemssions, top 5 columns, type of data"
   ]
  },
  {
   "cell_type": "code",
   "execution_count": 473,
   "metadata": {
    "colab": {
     "base_uri": "https://localhost:8080/"
    },
    "id": "4N1jL6N2ythA",
    "outputId": "b021b320-d414-4161-815e-05e6fa3d45b9"
   },
   "outputs": [
    {
     "data": {
      "text/plain": [
       "(5171, 4)"
      ]
     },
     "execution_count": 473,
     "metadata": {},
     "output_type": "execute_result"
    }
   ],
   "source": [
    "#get data dimenssions\n",
    "data.shape"
   ]
  },
  {
   "cell_type": "code",
   "execution_count": 474,
   "metadata": {
    "colab": {
     "base_uri": "https://localhost:8080/",
     "height": 206
    },
    "id": "JIvhSD_Dyzcv",
    "outputId": "d19c9618-9eb0-4d1b-c63f-8ba210ecd4fb"
   },
   "outputs": [
    {
     "data": {
      "text/html": [
       "<div>\n",
       "<style scoped>\n",
       "    .dataframe tbody tr th:only-of-type {\n",
       "        vertical-align: middle;\n",
       "    }\n",
       "\n",
       "    .dataframe tbody tr th {\n",
       "        vertical-align: top;\n",
       "    }\n",
       "\n",
       "    .dataframe thead th {\n",
       "        text-align: right;\n",
       "    }\n",
       "</style>\n",
       "<table border=\"1\" class=\"dataframe\">\n",
       "  <thead>\n",
       "    <tr style=\"text-align: right;\">\n",
       "      <th></th>\n",
       "      <th>Unnamed: 0</th>\n",
       "      <th>label</th>\n",
       "      <th>text</th>\n",
       "      <th>label_num</th>\n",
       "    </tr>\n",
       "  </thead>\n",
       "  <tbody>\n",
       "    <tr>\n",
       "      <th>0</th>\n",
       "      <td>605</td>\n",
       "      <td>ham</td>\n",
       "      <td>Subject: enron methanol ; meter # : 988291\\r\\n...</td>\n",
       "      <td>0</td>\n",
       "    </tr>\n",
       "    <tr>\n",
       "      <th>1</th>\n",
       "      <td>2349</td>\n",
       "      <td>ham</td>\n",
       "      <td>Subject: hpl nom for january 9 , 2001\\r\\n( see...</td>\n",
       "      <td>0</td>\n",
       "    </tr>\n",
       "    <tr>\n",
       "      <th>2</th>\n",
       "      <td>3624</td>\n",
       "      <td>ham</td>\n",
       "      <td>Subject: neon retreat\\r\\nho ho ho , we ' re ar...</td>\n",
       "      <td>0</td>\n",
       "    </tr>\n",
       "    <tr>\n",
       "      <th>3</th>\n",
       "      <td>4685</td>\n",
       "      <td>spam</td>\n",
       "      <td>Subject: photoshop , windows , office . cheap ...</td>\n",
       "      <td>1</td>\n",
       "    </tr>\n",
       "    <tr>\n",
       "      <th>4</th>\n",
       "      <td>2030</td>\n",
       "      <td>ham</td>\n",
       "      <td>Subject: re : indian springs\\r\\nthis deal is t...</td>\n",
       "      <td>0</td>\n",
       "    </tr>\n",
       "  </tbody>\n",
       "</table>\n",
       "</div>"
      ],
      "text/plain": [
       "   Unnamed: 0 label                                               text  \\\n",
       "0         605   ham  Subject: enron methanol ; meter # : 988291\\r\\n...   \n",
       "1        2349   ham  Subject: hpl nom for january 9 , 2001\\r\\n( see...   \n",
       "2        3624   ham  Subject: neon retreat\\r\\nho ho ho , we ' re ar...   \n",
       "3        4685  spam  Subject: photoshop , windows , office . cheap ...   \n",
       "4        2030   ham  Subject: re : indian springs\\r\\nthis deal is t...   \n",
       "\n",
       "   label_num  \n",
       "0          0  \n",
       "1          0  \n",
       "2          0  \n",
       "3          1  \n",
       "4          0  "
      ]
     },
     "execution_count": 474,
     "metadata": {},
     "output_type": "execute_result"
    }
   ],
   "source": [
    "#show first 5 columns\n",
    "data.head()"
   ]
  },
  {
   "cell_type": "code",
   "execution_count": 475,
   "metadata": {
    "colab": {
     "base_uri": "https://localhost:8080/",
     "height": 206
    },
    "id": "Yce2W8qjy7wp",
    "outputId": "adcbb3ce-1893-48c8-b7bc-ae2004b1ccd4"
   },
   "outputs": [
    {
     "data": {
      "text/html": [
       "<div>\n",
       "<style scoped>\n",
       "    .dataframe tbody tr th:only-of-type {\n",
       "        vertical-align: middle;\n",
       "    }\n",
       "\n",
       "    .dataframe tbody tr th {\n",
       "        vertical-align: top;\n",
       "    }\n",
       "\n",
       "    .dataframe thead th {\n",
       "        text-align: right;\n",
       "    }\n",
       "</style>\n",
       "<table border=\"1\" class=\"dataframe\">\n",
       "  <thead>\n",
       "    <tr style=\"text-align: right;\">\n",
       "      <th></th>\n",
       "      <th>Unnamed: 0</th>\n",
       "      <th>label</th>\n",
       "      <th>text</th>\n",
       "      <th>label_num</th>\n",
       "    </tr>\n",
       "  </thead>\n",
       "  <tbody>\n",
       "    <tr>\n",
       "      <th>5166</th>\n",
       "      <td>1518</td>\n",
       "      <td>ham</td>\n",
       "      <td>Subject: put the 10 on the ft\\r\\nthe transport...</td>\n",
       "      <td>0</td>\n",
       "    </tr>\n",
       "    <tr>\n",
       "      <th>5167</th>\n",
       "      <td>404</td>\n",
       "      <td>ham</td>\n",
       "      <td>Subject: 3 / 4 / 2000 and following noms\\r\\nhp...</td>\n",
       "      <td>0</td>\n",
       "    </tr>\n",
       "    <tr>\n",
       "      <th>5168</th>\n",
       "      <td>2933</td>\n",
       "      <td>ham</td>\n",
       "      <td>Subject: calpine daily gas nomination\\r\\n&gt;\\r\\n...</td>\n",
       "      <td>0</td>\n",
       "    </tr>\n",
       "    <tr>\n",
       "      <th>5169</th>\n",
       "      <td>1409</td>\n",
       "      <td>ham</td>\n",
       "      <td>Subject: industrial worksheets for august 2000...</td>\n",
       "      <td>0</td>\n",
       "    </tr>\n",
       "    <tr>\n",
       "      <th>5170</th>\n",
       "      <td>4807</td>\n",
       "      <td>spam</td>\n",
       "      <td>Subject: important online banking alert\\r\\ndea...</td>\n",
       "      <td>1</td>\n",
       "    </tr>\n",
       "  </tbody>\n",
       "</table>\n",
       "</div>"
      ],
      "text/plain": [
       "      Unnamed: 0 label                                               text  \\\n",
       "5166        1518   ham  Subject: put the 10 on the ft\\r\\nthe transport...   \n",
       "5167         404   ham  Subject: 3 / 4 / 2000 and following noms\\r\\nhp...   \n",
       "5168        2933   ham  Subject: calpine daily gas nomination\\r\\n>\\r\\n...   \n",
       "5169        1409   ham  Subject: industrial worksheets for august 2000...   \n",
       "5170        4807  spam  Subject: important online banking alert\\r\\ndea...   \n",
       "\n",
       "      label_num  \n",
       "5166          0  \n",
       "5167          0  \n",
       "5168          0  \n",
       "5169          0  \n",
       "5170          1  "
      ]
     },
     "execution_count": 475,
     "metadata": {},
     "output_type": "execute_result"
    }
   ],
   "source": [
    "#show last five columns\n",
    "data.tail()"
   ]
  },
  {
   "cell_type": "code",
   "execution_count": 476,
   "metadata": {
    "colab": {
     "base_uri": "https://localhost:8080/"
    },
    "id": "gMfO04Biy96n",
    "outputId": "b42d98d8-58a8-4df6-e6fa-4e9ecc214248"
   },
   "outputs": [
    {
     "name": "stdout",
     "output_type": "stream",
     "text": [
      "<class 'pandas.core.frame.DataFrame'>\n",
      "RangeIndex: 5171 entries, 0 to 5170\n",
      "Data columns (total 4 columns):\n",
      " #   Column      Non-Null Count  Dtype \n",
      "---  ------      --------------  ----- \n",
      " 0   Unnamed: 0  5171 non-null   int64 \n",
      " 1   label       5171 non-null   object\n",
      " 2   text        5171 non-null   object\n",
      " 3   label_num   5171 non-null   int64 \n",
      "dtypes: int64(2), object(2)\n",
      "memory usage: 161.7+ KB\n"
     ]
    }
   ],
   "source": [
    "data.info()"
   ]
  },
  {
   "cell_type": "code",
   "execution_count": 477,
   "metadata": {
    "id": "tY6Cvd74zDfi"
   },
   "outputs": [],
   "source": [
    "#create a copy of X_train and called it train_set\n",
    "train_set = data.copy()"
   ]
  },
  {
   "cell_type": "markdown",
   "metadata": {
    "id": "47Y9tProzDC3"
   },
   "source": [
    "## Explore the Data\n",
    "\n",
    "1. Study Features (categorical,numerical, % missing values, noise data)\n",
    "2. Usefulness\n",
    "3. Identify Target feature"
   ]
  },
  {
   "cell_type": "code",
   "execution_count": 478,
   "metadata": {
    "colab": {
     "base_uri": "https://localhost:8080/"
    },
    "id": "JSwQb_hyzI4t",
    "outputId": "8fad1af0-7158-4e90-c842-3aba3eb68671"
   },
   "outputs": [
    {
     "data": {
      "text/plain": [
       "Unnamed: 0    [605, 2349, 3624, 4685, 2030, 2949, 2793, 4185...\n",
       "label                                               [ham, spam]\n",
       "text          [Subject: enron methanol ; meter # : 988291\\r\\...\n",
       "label_num                                                [0, 1]\n",
       "dtype: object"
      ]
     },
     "execution_count": 478,
     "metadata": {},
     "output_type": "execute_result"
    }
   ],
   "source": [
    "#check if the categorical values, might be Nominal, Ordinal, or Binary (0,1 or yes,no)\n",
    "train_set.apply(pd.unique)"
   ]
  },
  {
   "cell_type": "code",
   "execution_count": 479,
   "metadata": {
    "colab": {
     "base_uri": "https://localhost:8080/"
    },
    "id": "CaD2fjHGzP_A",
    "outputId": "aa640415-b691-42bd-e38c-8368584a730c"
   },
   "outputs": [
    {
     "data": {
      "text/plain": [
       "Unnamed: 0    5171\n",
       "label            2\n",
       "text          4993\n",
       "label_num        2\n",
       "dtype: int64"
      ]
     },
     "execution_count": 479,
     "metadata": {},
     "output_type": "execute_result"
    }
   ],
   "source": [
    "#check the amount of uniqueness\n",
    "train_set.nunique()"
   ]
  },
  {
   "cell_type": "code",
   "execution_count": 480,
   "metadata": {
    "colab": {
     "base_uri": "https://localhost:8080/",
     "height": 71
    },
    "id": "e4wGnwBlzSCR",
    "outputId": "27abc9f3-29b7-4318-f573-d19d1bbbe5e9"
   },
   "outputs": [
    {
     "data": {
      "text/plain": [
       "\"Subject: enron methanol ; meter # : 988291\\r\\nthis is a follow up to the note i gave you on monday , 4 / 3 / 00 { preliminary\\r\\nflow data provided by daren } .\\r\\nplease override pop ' s daily volume { presently zero } to reflect daily\\r\\nactivity you can obtain from gas control .\\r\\nthis change is needed asap for economics purposes .\""
      ]
     },
     "execution_count": 480,
     "metadata": {},
     "output_type": "execute_result"
    }
   ],
   "source": [
    "#see full text of 1 row, what our main feature looks like\n",
    "train_set.loc[0,'text']"
   ]
  },
  {
   "cell_type": "code",
   "execution_count": 481,
   "metadata": {},
   "outputs": [
    {
     "data": {
      "text/plain": [
       "'Subject: help !\\r\\nbrian ,\\r\\nwho do i talk to about getting daren farmer a labor distribution report . he\\r\\nneeds to see what employees are hitting his rc . i know that we have\\r\\ndiscussed this prior and soem managers are receiving a monthly report but he\\r\\nis not . who can help us ? ? ?\\r\\nthank you !\\r\\nyvette\\r\\nx 3 . 5953'"
      ]
     },
     "execution_count": 481,
     "metadata": {},
     "output_type": "execute_result"
    }
   ],
   "source": [
    "#see full text of 1 row, what our main feature looks like\n",
    "train_set.loc[100,'text']"
   ]
  },
  {
   "cell_type": "code",
   "execution_count": 482,
   "metadata": {},
   "outputs": [
    {
     "data": {
      "text/plain": [
       "'Subject: enron / hpl actuals for october 9 , 2000\\r\\nteco tap 30 . 000 / enron ; 120 . 000 / hpl iferc'"
      ]
     },
     "execution_count": 482,
     "metadata": {},
     "output_type": "execute_result"
    }
   ],
   "source": [
    "#see full text of 1 row, what our main feature looks like\n",
    "train_set.loc[1340,'text']"
   ]
  },
  {
   "cell_type": "code",
   "execution_count": 483,
   "metadata": {},
   "outputs": [
    {
     "data": {
      "image/png": "[encoded data removed]",
      "text/plain": [
       "<Figure size 700x600 with 1 Axes>"
      ]
     },
     "metadata": {},
     "output_type": "display_data"
    }
   ],
   "source": [
    "#show amount of spam and not spam email\n",
    "\n",
    "#select size\n",
    "plt.figure(figsize=(7, 6))\n",
    "#use seaborn to add data and columns\n",
    "sns.countplot(data=train_set, x='label', palette='Greens')\n",
    "#add title\n",
    "plt.title('Fig 1. Spam vs Not Spam Train set')\n",
    "# add x label\n",
    "plt.xlabel('Emails ')\n",
    "# add y label\n",
    "plt.ylabel('Amount')\n",
    "#tight layout\n",
    "plt.tight_layout()\n",
    "#show layout\n",
    "plt.show()"
   ]
  },
  {
   "cell_type": "code",
   "execution_count": 484,
   "metadata": {},
   "outputs": [],
   "source": [
    "#get the size of each mail\n",
    "train_set['size'] = train_set['text'].str.len()"
   ]
  },
  {
   "cell_type": "code",
   "execution_count": 485,
   "metadata": {},
   "outputs": [
    {
     "data": {
      "text/html": [
       "<div>\n",
       "<style scoped>\n",
       "    .dataframe tbody tr th:only-of-type {\n",
       "        vertical-align: middle;\n",
       "    }\n",
       "\n",
       "    .dataframe tbody tr th {\n",
       "        vertical-align: top;\n",
       "    }\n",
       "\n",
       "    .dataframe thead th {\n",
       "        text-align: right;\n",
       "    }\n",
       "</style>\n",
       "<table border=\"1\" class=\"dataframe\">\n",
       "  <thead>\n",
       "    <tr style=\"text-align: right;\">\n",
       "      <th></th>\n",
       "      <th>Unnamed: 0</th>\n",
       "      <th>label</th>\n",
       "      <th>text</th>\n",
       "      <th>label_num</th>\n",
       "      <th>size</th>\n",
       "    </tr>\n",
       "  </thead>\n",
       "  <tbody>\n",
       "    <tr>\n",
       "      <th>0</th>\n",
       "      <td>605</td>\n",
       "      <td>ham</td>\n",
       "      <td>Subject: enron methanol ; meter # : 988291\\r\\n...</td>\n",
       "      <td>0</td>\n",
       "      <td>327</td>\n",
       "    </tr>\n",
       "    <tr>\n",
       "      <th>1</th>\n",
       "      <td>2349</td>\n",
       "      <td>ham</td>\n",
       "      <td>Subject: hpl nom for january 9 , 2001\\r\\n( see...</td>\n",
       "      <td>0</td>\n",
       "      <td>97</td>\n",
       "    </tr>\n",
       "    <tr>\n",
       "      <th>2</th>\n",
       "      <td>3624</td>\n",
       "      <td>ham</td>\n",
       "      <td>Subject: neon retreat\\r\\nho ho ho , we ' re ar...</td>\n",
       "      <td>0</td>\n",
       "      <td>2524</td>\n",
       "    </tr>\n",
       "    <tr>\n",
       "      <th>3</th>\n",
       "      <td>4685</td>\n",
       "      <td>spam</td>\n",
       "      <td>Subject: photoshop , windows , office . cheap ...</td>\n",
       "      <td>1</td>\n",
       "      <td>414</td>\n",
       "    </tr>\n",
       "    <tr>\n",
       "      <th>4</th>\n",
       "      <td>2030</td>\n",
       "      <td>ham</td>\n",
       "      <td>Subject: re : indian springs\\r\\nthis deal is t...</td>\n",
       "      <td>0</td>\n",
       "      <td>336</td>\n",
       "    </tr>\n",
       "  </tbody>\n",
       "</table>\n",
       "</div>"
      ],
      "text/plain": [
       "   Unnamed: 0 label                                               text  \\\n",
       "0         605   ham  Subject: enron methanol ; meter # : 988291\\r\\n...   \n",
       "1        2349   ham  Subject: hpl nom for january 9 , 2001\\r\\n( see...   \n",
       "2        3624   ham  Subject: neon retreat\\r\\nho ho ho , we ' re ar...   \n",
       "3        4685  spam  Subject: photoshop , windows , office . cheap ...   \n",
       "4        2030   ham  Subject: re : indian springs\\r\\nthis deal is t...   \n",
       "\n",
       "   label_num  size  \n",
       "0          0   327  \n",
       "1          0    97  \n",
       "2          0  2524  \n",
       "3          1   414  \n",
       "4          0   336  "
      ]
     },
     "execution_count": 485,
     "metadata": {},
     "output_type": "execute_result"
    }
   ],
   "source": [
    "train_set.head()"
   ]
  },
  {
   "cell_type": "code",
   "execution_count": 486,
   "metadata": {},
   "outputs": [
    {
     "data": {
      "image/png": "[encoded data removed]",
      "text/plain": [
       "<Figure size 800x600 with 1 Axes>"
      ]
     },
     "metadata": {},
     "output_type": "display_data"
    }
   ],
   "source": [
    "import matplotlib.pyplot as plt\n",
    "import seaborn as sns\n",
    "\n",
    "# Assuming 'train_set' is your DataFrame containing the email data with the 'size' column representing the length of the text\n",
    "\n",
    "# Set the size of the plot\n",
    "plt.figure(figsize=(8, 6))\n",
    "\n",
    "# Create the scatter plot\n",
    "sns.scatterplot(data=train_set, x=train_set.index, y='size', color='green')\n",
    "\n",
    "# Add title\n",
    "plt.title('Fig 2. Length of Emails Train')\n",
    "\n",
    "# Add x-axis label\n",
    "plt.xlabel('Email Index')\n",
    "\n",
    "# Add y-axis label\n",
    "plt.ylabel('Amount of characters')\n",
    "\n",
    "# Show the plot\n",
    "plt.show()\n"
   ]
  },
  {
   "cell_type": "markdown",
   "metadata": {
    "id": "bsVa96ETy7A9"
   },
   "source": [
    "2. Usefulness\n",
    "\n",
    "As we can see, most of our data is textbases,as expected since it is a NLP project, our main feautere to work with will be 'text', since it contains the subject and content of the email"
   ]
  },
  {
   "cell_type": "markdown",
   "metadata": {
    "id": "m1jis2X_zW_m"
   },
   "source": [
    "3. Identify Target feature\n",
    "\n",
    "'label_num'"
   ]
  },
  {
   "cell_type": "markdown",
   "metadata": {
    "id": "8taFI911zZgZ"
   },
   "source": [
    "### III. Prepare data\n",
    "1. Clean the data:\n",
    "• Fix or remove outliers (optional).\n",
    "• Fill in missing values (e.g., with zero, mean, median…) or drop their rows (or\n",
    "columns).\n",
    "2. Perform feature engineering, where appropriate:\n",
    "• Discretize continuous features.\n",
    "• Decompose features (e.g., categorical, date/time, etc.).\n",
    "• Add promising transformations of features (e.g., log(x), sqrt(x), x2, etc.).\n",
    "• Aggregate features into promising new features.\n",
    "3. Perform feature selection (optional):\n",
    "• Drop the attributes that provide no useful information for the task.\n",
    "4. Perform feature scaling:\n",
    "• Standardize or normalize features."
   ]
  },
  {
   "cell_type": "markdown",
   "metadata": {},
   "source": [
    "1. Clean the data"
   ]
  },
  {
   "cell_type": "code",
   "execution_count": 487,
   "metadata": {},
   "outputs": [
    {
     "data": {
      "text/plain": [
       "Unnamed: 0    0\n",
       "label         0\n",
       "text          0\n",
       "label_num     0\n",
       "size          0\n",
       "dtype: int64"
      ]
     },
     "execution_count": 487,
     "metadata": {},
     "output_type": "execute_result"
    }
   ],
   "source": [
    "#chech null values \n",
    "train_set.isnull().sum()"
   ]
  },
  {
   "cell_type": "code",
   "execution_count": 488,
   "metadata": {
    "id": "yFNu8TyWzb0z"
   },
   "outputs": [],
   "source": [
    "#define a class to treat the missing values and outliers\n",
    "\n",
    "class CleanData:\n",
    "  #init our class\n",
    "    def __init__(self, dataset):\n",
    "        self.dataset = dataset\n",
    "    pass\n",
    "\n",
    "    #lower the full text\n",
    "    def getTextLower(self):\n",
    "        #using the lower function to lower the full text in the dataset\n",
    "        self.dataset['text'] = self.dataset['text'].str.lower()\n",
    "    pass\n",
    "\n",
    "  #separate text between subject and content\n",
    "    def getSubject(self):\n",
    "        #create a new feature in df that adds the subject\n",
    "        #split the text column and only add the first row to the subject feature\n",
    "        self.dataset['subject']= self.dataset['text'].str.split('\\n').str[0]\n",
    "\n",
    "        #using replace we take the rows that contains subject and replace the word subject only leaven the content\n",
    "        self.dataset['subject']= self.dataset['subject'].str.replace('subject','')\n",
    "    pass\n",
    "\n",
    "  #separate the text and get the body content\n",
    "    def getBody(self):\n",
    "        #create a new feature call body\n",
    "        #save the content of email in a feature called body, using split we will omit\n",
    "        #the subject and add all the other parts of the text feature into body\n",
    "        self.dataset['body']= self.dataset['text'].str.split('\\n').str[1:]\n",
    "        #join the whole body feature\n",
    "        self.dataset['body']= self.dataset['body'].str.join('\\n')\n",
    "    pass\n",
    "\n",
    "\n",
    "  #remove any character to subject and body features\n",
    "    def removeCharacters(self):\n",
    "        #regex parttern to remove any special character that does not add value to our analysis\n",
    "        pattern = r'[0-9.\\r\\n\\t#$@,(){}[\\]/\\+-=_&^*!]'\n",
    "        #using replace we will remove any character that follows the pattern\n",
    "        self.dataset['body']= self.dataset['body'].apply(lambda x:re.sub(pattern, '',x))\n",
    "         #using replace we will remove any character that follows the pattern\n",
    "        self.dataset['subject']= self.dataset['subject'].apply(lambda x:re.sub(pattern, '',x))\n",
    "\n",
    "    pass\n",
    "\n",
    "\n",
    "\n"
   ]
  },
  {
   "cell_type": "code",
   "execution_count": 489,
   "metadata": {
    "id": "hekN0rW0zrcN"
   },
   "outputs": [],
   "source": [
    "#call an instance of the CleanData class and\n",
    "clean = CleanData(train_set)\n",
    "#put all the text in lower\n",
    "clean.getTextLower()\n",
    "#get the subject in a specific feature called subject\n",
    "clean.getSubject()\n",
    "#get the body in a specific feature called body\n",
    "clean.getBody()\n",
    "#remove any characters that do not add value to our work\n",
    "clean.removeCharacters()"
   ]
  },
  {
   "cell_type": "code",
   "execution_count": 490,
   "metadata": {
    "id": "O3P9C8kT5091"
   },
   "outputs": [],
   "source": [
    "#apply changes to the train set\n",
    "train_set= clean.dataset"
   ]
  },
  {
   "cell_type": "code",
   "execution_count": 491,
   "metadata": {
    "id": "8P79I_De7_oo",
    "scrolled": true
   },
   "outputs": [
    {
     "data": {
      "text/html": [
       "<div>\n",
       "<style scoped>\n",
       "    .dataframe tbody tr th:only-of-type {\n",
       "        vertical-align: middle;\n",
       "    }\n",
       "\n",
       "    .dataframe tbody tr th {\n",
       "        vertical-align: top;\n",
       "    }\n",
       "\n",
       "    .dataframe thead th {\n",
       "        text-align: right;\n",
       "    }\n",
       "</style>\n",
       "<table border=\"1\" class=\"dataframe\">\n",
       "  <thead>\n",
       "    <tr style=\"text-align: right;\">\n",
       "      <th></th>\n",
       "      <th>Unnamed: 0</th>\n",
       "      <th>label</th>\n",
       "      <th>text</th>\n",
       "      <th>label_num</th>\n",
       "      <th>size</th>\n",
       "      <th>subject</th>\n",
       "      <th>body</th>\n",
       "    </tr>\n",
       "  </thead>\n",
       "  <tbody>\n",
       "    <tr>\n",
       "      <th>0</th>\n",
       "      <td>605</td>\n",
       "      <td>ham</td>\n",
       "      <td>subject: enron methanol ; meter # : 988291\\r\\n...</td>\n",
       "      <td>0</td>\n",
       "      <td>327</td>\n",
       "      <td>enron methanol  meter</td>\n",
       "      <td>this is a follow up to the note i gave you on ...</td>\n",
       "    </tr>\n",
       "    <tr>\n",
       "      <th>1</th>\n",
       "      <td>2349</td>\n",
       "      <td>ham</td>\n",
       "      <td>subject: hpl nom for january 9 , 2001\\r\\n( see...</td>\n",
       "      <td>0</td>\n",
       "      <td>97</td>\n",
       "      <td>hpl nom for january</td>\n",
       "      <td>see attached file  hplnol   xls  hplnol   xls</td>\n",
       "    </tr>\n",
       "    <tr>\n",
       "      <th>2</th>\n",
       "      <td>3624</td>\n",
       "      <td>ham</td>\n",
       "      <td>subject: neon retreat\\r\\nho ho ho , we ' re ar...</td>\n",
       "      <td>0</td>\n",
       "      <td>2524</td>\n",
       "      <td>neon retreat</td>\n",
       "      <td>ho ho ho  we ' re around to that most wonderfu...</td>\n",
       "    </tr>\n",
       "    <tr>\n",
       "      <th>3</th>\n",
       "      <td>4685</td>\n",
       "      <td>spam</td>\n",
       "      <td>subject: photoshop , windows , office . cheap ...</td>\n",
       "      <td>1</td>\n",
       "      <td>414</td>\n",
       "      <td>photoshop  windows  office  cheap  main trending</td>\n",
       "      <td>abasements darer prudently fortuitous undergon...</td>\n",
       "    </tr>\n",
       "    <tr>\n",
       "      <th>4</th>\n",
       "      <td>2030</td>\n",
       "      <td>ham</td>\n",
       "      <td>subject: re : indian springs\\r\\nthis deal is t...</td>\n",
       "      <td>0</td>\n",
       "      <td>336</td>\n",
       "      <td>re  indian springs</td>\n",
       "      <td>this deal is to book the teco pvr revenue  it ...</td>\n",
       "    </tr>\n",
       "  </tbody>\n",
       "</table>\n",
       "</div>"
      ],
      "text/plain": [
       "   Unnamed: 0 label                                               text  \\\n",
       "0         605   ham  subject: enron methanol ; meter # : 988291\\r\\n...   \n",
       "1        2349   ham  subject: hpl nom for january 9 , 2001\\r\\n( see...   \n",
       "2        3624   ham  subject: neon retreat\\r\\nho ho ho , we ' re ar...   \n",
       "3        4685  spam  subject: photoshop , windows , office . cheap ...   \n",
       "4        2030   ham  subject: re : indian springs\\r\\nthis deal is t...   \n",
       "\n",
       "   label_num  size                                            subject  \\\n",
       "0          0   327                           enron methanol  meter      \n",
       "1          0    97                             hpl nom for january      \n",
       "2          0  2524                                       neon retreat   \n",
       "3          1   414   photoshop  windows  office  cheap  main trending   \n",
       "4          0   336                                 re  indian springs   \n",
       "\n",
       "                                                body  \n",
       "0  this is a follow up to the note i gave you on ...  \n",
       "1      see attached file  hplnol   xls  hplnol   xls  \n",
       "2  ho ho ho  we ' re around to that most wonderfu...  \n",
       "3  abasements darer prudently fortuitous undergon...  \n",
       "4  this deal is to book the teco pvr revenue  it ...  "
      ]
     },
     "execution_count": 491,
     "metadata": {},
     "output_type": "execute_result"
    }
   ],
   "source": [
    "train_set.head()"
   ]
  },
  {
   "cell_type": "code",
   "execution_count": 492,
   "metadata": {},
   "outputs": [],
   "source": [
    "#for the purporse of training the model we will join our Subject and Body to create a vector \n",
    "train_set['email'] = train_set['subject'] + ' ' + train_set['body']\n"
   ]
  },
  {
   "cell_type": "code",
   "execution_count": 493,
   "metadata": {},
   "outputs": [],
   "source": [
    "#drop the unnecesary columns \n",
    "train_set.drop(columns=['Unnamed: 0','label_num','text','size','subject','body'], inplace=True)\n"
   ]
  },
  {
   "cell_type": "code",
   "execution_count": 494,
   "metadata": {},
   "outputs": [
    {
     "data": {
      "text/html": [
       "<div>\n",
       "<style scoped>\n",
       "    .dataframe tbody tr th:only-of-type {\n",
       "        vertical-align: middle;\n",
       "    }\n",
       "\n",
       "    .dataframe tbody tr th {\n",
       "        vertical-align: top;\n",
       "    }\n",
       "\n",
       "    .dataframe thead th {\n",
       "        text-align: right;\n",
       "    }\n",
       "</style>\n",
       "<table border=\"1\" class=\"dataframe\">\n",
       "  <thead>\n",
       "    <tr style=\"text-align: right;\">\n",
       "      <th></th>\n",
       "      <th>label</th>\n",
       "      <th>email</th>\n",
       "    </tr>\n",
       "  </thead>\n",
       "  <tbody>\n",
       "    <tr>\n",
       "      <th>0</th>\n",
       "      <td>ham</td>\n",
       "      <td>enron methanol  meter    this is a follow up ...</td>\n",
       "    </tr>\n",
       "    <tr>\n",
       "      <th>1</th>\n",
       "      <td>ham</td>\n",
       "      <td>hpl nom for january     see attached file  hp...</td>\n",
       "    </tr>\n",
       "    <tr>\n",
       "      <th>2</th>\n",
       "      <td>ham</td>\n",
       "      <td>neon retreat ho ho ho  we ' re around to that...</td>\n",
       "    </tr>\n",
       "    <tr>\n",
       "      <th>3</th>\n",
       "      <td>spam</td>\n",
       "      <td>photoshop  windows  office  cheap  main trend...</td>\n",
       "    </tr>\n",
       "    <tr>\n",
       "      <th>4</th>\n",
       "      <td>ham</td>\n",
       "      <td>re  indian springs this deal is to book the t...</td>\n",
       "    </tr>\n",
       "  </tbody>\n",
       "</table>\n",
       "</div>"
      ],
      "text/plain": [
       "  label                                              email\n",
       "0   ham   enron methanol  meter    this is a follow up ...\n",
       "1   ham   hpl nom for january     see attached file  hp...\n",
       "2   ham   neon retreat ho ho ho  we ' re around to that...\n",
       "3  spam   photoshop  windows  office  cheap  main trend...\n",
       "4   ham   re  indian springs this deal is to book the t..."
      ]
     },
     "execution_count": 494,
     "metadata": {},
     "output_type": "execute_result"
    }
   ],
   "source": [
    "train_set.head() #show five first row"
   ]
  },
  {
   "cell_type": "markdown",
   "metadata": {},
   "source": [
    "### IV. Select best ML models\n",
    "\n",
    "1. Validate train and test\n",
    "2. Identify models to apply \n",
    "3. Show feature importance for each model \n",
    "4. Show metrics for each model Precision, Recall, Accuracy, AUC, F1 Score\n"
   ]
  },
  {
   "cell_type": "code",
   "execution_count": 495,
   "metadata": {},
   "outputs": [],
   "source": [
    "\n",
    "#select target variable\n",
    "TARGET ='label'\n",
    "\n",
    "#define X as out entire df\n",
    "X = train_set\n",
    "# y as only our targe variable\n",
    "y= data[TARGET]\n"
   ]
  },
  {
   "cell_type": "code",
   "execution_count": 496,
   "metadata": {},
   "outputs": [
    {
     "data": {
      "text/html": [
       "<div>\n",
       "<style scoped>\n",
       "    .dataframe tbody tr th:only-of-type {\n",
       "        vertical-align: middle;\n",
       "    }\n",
       "\n",
       "    .dataframe tbody tr th {\n",
       "        vertical-align: top;\n",
       "    }\n",
       "\n",
       "    .dataframe thead th {\n",
       "        text-align: right;\n",
       "    }\n",
       "</style>\n",
       "<table border=\"1\" class=\"dataframe\">\n",
       "  <thead>\n",
       "    <tr style=\"text-align: right;\">\n",
       "      <th></th>\n",
       "      <th>label</th>\n",
       "      <th>email</th>\n",
       "    </tr>\n",
       "  </thead>\n",
       "  <tbody>\n",
       "    <tr>\n",
       "      <th>0</th>\n",
       "      <td>ham</td>\n",
       "      <td>enron methanol  meter    this is a follow up ...</td>\n",
       "    </tr>\n",
       "    <tr>\n",
       "      <th>1</th>\n",
       "      <td>ham</td>\n",
       "      <td>hpl nom for january     see attached file  hp...</td>\n",
       "    </tr>\n",
       "    <tr>\n",
       "      <th>2</th>\n",
       "      <td>ham</td>\n",
       "      <td>neon retreat ho ho ho  we ' re around to that...</td>\n",
       "    </tr>\n",
       "    <tr>\n",
       "      <th>3</th>\n",
       "      <td>spam</td>\n",
       "      <td>photoshop  windows  office  cheap  main trend...</td>\n",
       "    </tr>\n",
       "    <tr>\n",
       "      <th>4</th>\n",
       "      <td>ham</td>\n",
       "      <td>re  indian springs this deal is to book the t...</td>\n",
       "    </tr>\n",
       "    <tr>\n",
       "      <th>...</th>\n",
       "      <td>...</td>\n",
       "      <td>...</td>\n",
       "    </tr>\n",
       "    <tr>\n",
       "      <th>5166</th>\n",
       "      <td>ham</td>\n",
       "      <td>put the  on the ft the transport volumes decr...</td>\n",
       "    </tr>\n",
       "    <tr>\n",
       "      <th>5167</th>\n",
       "      <td>ham</td>\n",
       "      <td>and following noms hpl can ' t take the ...</td>\n",
       "    </tr>\n",
       "    <tr>\n",
       "      <th>5168</th>\n",
       "      <td>ham</td>\n",
       "      <td>calpine daily gas nomination &gt;&gt;julie  as i me...</td>\n",
       "    </tr>\n",
       "    <tr>\n",
       "      <th>5169</th>\n",
       "      <td>ham</td>\n",
       "      <td>industrial worksheets for august  activity at...</td>\n",
       "    </tr>\n",
       "    <tr>\n",
       "      <th>5170</th>\n",
       "      <td>spam</td>\n",
       "      <td>important online banking alert dear valued ci...</td>\n",
       "    </tr>\n",
       "  </tbody>\n",
       "</table>\n",
       "<p>5171 rows × 2 columns</p>\n",
       "</div>"
      ],
      "text/plain": [
       "     label                                              email\n",
       "0      ham   enron methanol  meter    this is a follow up ...\n",
       "1      ham   hpl nom for january     see attached file  hp...\n",
       "2      ham   neon retreat ho ho ho  we ' re around to that...\n",
       "3     spam   photoshop  windows  office  cheap  main trend...\n",
       "4      ham   re  indian springs this deal is to book the t...\n",
       "...    ...                                                ...\n",
       "5166   ham   put the  on the ft the transport volumes decr...\n",
       "5167   ham        and following noms hpl can ' t take the ...\n",
       "5168   ham   calpine daily gas nomination >>julie  as i me...\n",
       "5169   ham   industrial worksheets for august  activity at...\n",
       "5170  spam   important online banking alert dear valued ci...\n",
       "\n",
       "[5171 rows x 2 columns]"
      ]
     },
     "execution_count": 496,
     "metadata": {},
     "output_type": "execute_result"
    }
   ],
   "source": [
    "#check the values of x\n",
    "X"
   ]
  },
  {
   "cell_type": "code",
   "execution_count": 497,
   "metadata": {},
   "outputs": [
    {
     "name": "stdout",
     "output_type": "stream",
     "text": [
      "X.shape: (5171, 1)\n"
     ]
    }
   ],
   "source": [
    "#drop TARGET COLUMN from train and test  \n",
    "X.drop(columns=['label'], inplace=True)\n",
    "\n",
    "\n",
    "#print the dimensions \n",
    "print(f\"X.shape: {X.shape}\")\n",
    "\n"
   ]
  },
  {
   "cell_type": "code",
   "execution_count": 498,
   "metadata": {},
   "outputs": [
    {
     "data": {
      "text/html": [
       "<div>\n",
       "<style scoped>\n",
       "    .dataframe tbody tr th:only-of-type {\n",
       "        vertical-align: middle;\n",
       "    }\n",
       "\n",
       "    .dataframe tbody tr th {\n",
       "        vertical-align: top;\n",
       "    }\n",
       "\n",
       "    .dataframe thead th {\n",
       "        text-align: right;\n",
       "    }\n",
       "</style>\n",
       "<table border=\"1\" class=\"dataframe\">\n",
       "  <thead>\n",
       "    <tr style=\"text-align: right;\">\n",
       "      <th></th>\n",
       "      <th>email</th>\n",
       "    </tr>\n",
       "  </thead>\n",
       "  <tbody>\n",
       "    <tr>\n",
       "      <th>0</th>\n",
       "      <td>enron methanol  meter    this is a follow up ...</td>\n",
       "    </tr>\n",
       "    <tr>\n",
       "      <th>1</th>\n",
       "      <td>hpl nom for january     see attached file  hp...</td>\n",
       "    </tr>\n",
       "    <tr>\n",
       "      <th>2</th>\n",
       "      <td>neon retreat ho ho ho  we ' re around to that...</td>\n",
       "    </tr>\n",
       "    <tr>\n",
       "      <th>3</th>\n",
       "      <td>photoshop  windows  office  cheap  main trend...</td>\n",
       "    </tr>\n",
       "    <tr>\n",
       "      <th>4</th>\n",
       "      <td>re  indian springs this deal is to book the t...</td>\n",
       "    </tr>\n",
       "    <tr>\n",
       "      <th>...</th>\n",
       "      <td>...</td>\n",
       "    </tr>\n",
       "    <tr>\n",
       "      <th>5166</th>\n",
       "      <td>put the  on the ft the transport volumes decr...</td>\n",
       "    </tr>\n",
       "    <tr>\n",
       "      <th>5167</th>\n",
       "      <td>and following noms hpl can ' t take the ...</td>\n",
       "    </tr>\n",
       "    <tr>\n",
       "      <th>5168</th>\n",
       "      <td>calpine daily gas nomination &gt;&gt;julie  as i me...</td>\n",
       "    </tr>\n",
       "    <tr>\n",
       "      <th>5169</th>\n",
       "      <td>industrial worksheets for august  activity at...</td>\n",
       "    </tr>\n",
       "    <tr>\n",
       "      <th>5170</th>\n",
       "      <td>important online banking alert dear valued ci...</td>\n",
       "    </tr>\n",
       "  </tbody>\n",
       "</table>\n",
       "<p>5171 rows × 1 columns</p>\n",
       "</div>"
      ],
      "text/plain": [
       "                                                  email\n",
       "0      enron methanol  meter    this is a follow up ...\n",
       "1      hpl nom for january     see attached file  hp...\n",
       "2      neon retreat ho ho ho  we ' re around to that...\n",
       "3      photoshop  windows  office  cheap  main trend...\n",
       "4      re  indian springs this deal is to book the t...\n",
       "...                                                 ...\n",
       "5166   put the  on the ft the transport volumes decr...\n",
       "5167        and following noms hpl can ' t take the ...\n",
       "5168   calpine daily gas nomination >>julie  as i me...\n",
       "5169   industrial worksheets for august  activity at...\n",
       "5170   important online banking alert dear valued ci...\n",
       "\n",
       "[5171 rows x 1 columns]"
      ]
     },
     "execution_count": 498,
     "metadata": {},
     "output_type": "execute_result"
    }
   ],
   "source": [
    "#check values of X\n",
    "X"
   ]
  },
  {
   "cell_type": "code",
   "execution_count": 499,
   "metadata": {},
   "outputs": [],
   "source": [
    "\n",
    "# init TfidfVectorizer\n",
    "vectorizer = TfidfVectorizer(stop_words='english')\n",
    "\n",
    "# Fit and transform the email feature\n",
    "X = vectorizer.fit_transform(X['email'])"
   ]
  },
  {
   "cell_type": "code",
   "execution_count": 500,
   "metadata": {},
   "outputs": [
    {
     "data": {
      "text/plain": [
       "<5171x63144 sparse matrix of type '<class 'numpy.float64'>'\n",
       "\twith 303388 stored elements in Compressed Sparse Row format>"
      ]
     },
     "execution_count": 500,
     "metadata": {},
     "output_type": "execute_result"
    }
   ],
   "source": [
    "X\n",
    "#check X dimension"
   ]
  },
  {
   "cell_type": "code",
   "execution_count": 501,
   "metadata": {},
   "outputs": [
    {
     "name": "stdout",
     "output_type": "stream",
     "text": [
      "X_train.shape: (4395, 63144)\n",
      "X_test.shape: (776, 63144)\n",
      "y_train.shape: (4395,)\n",
      "y_test.shape: (776,)\n"
     ]
    }
   ],
   "source": [
    "\n",
    "#during the phase of train and split we will choose a 10% of our data for test and will apply a stratification\n",
    "#allowing us to get well representation of the population we are working with\n",
    "X_train, X_test, y_train, y_test = train_test_split(X, y, test_size=0.15, random_state=42, stratify=y) #stratified sampling based on the target\n",
    "\n",
    "#print the dimensions for each train and test\n",
    "print(f\"X_train.shape: {X_train.shape}\")\n",
    "print(f\"X_test.shape: {X_test.shape}\")\n",
    "print(f\"y_train.shape: {y_train.shape}\")\n",
    "print(f\"y_test.shape: {y_test.shape}\")"
   ]
  },
  {
   "cell_type": "code",
   "execution_count": 503,
   "metadata": {},
   "outputs": [
    {
     "name": "stdout",
     "output_type": "stream",
     "text": [
      "y_train_encoded.shape: (4395,)\n",
      "y_test_encoded.shape: (776,)\n"
     ]
    }
   ],
   "source": [
    "#with the use of Label Encoder we will change our target variable spam or ham into 0/1\n",
    "labelEnc = LabelEncoder()\n",
    "y_train_encoded = labelEnc.fit_transform(y_train)\n",
    "y_test_encoded = labelEnc.fit_transform(y_test)\n",
    "\n",
    "\n",
    "#note: as we saw earlier, indeed exist a feature called label_num already with 0/1, but for the project purpose we \n",
    "#decide to not take into consideration, as we can apply and learn new techniques \n",
    "\n",
    "print(f\"y_train_encoded.shape: {y_train_encoded.shape}\")\n",
    "print(f\"y_test_encoded.shape: {y_test_encoded.shape}\")"
   ]
  },
  {
   "cell_type": "code",
   "execution_count": 504,
   "metadata": {},
   "outputs": [
    {
     "data": {
      "text/plain": [
       "array([0, 0, 0, 0, 0, 1, 0, 0, 0, 1, 1, 1, 1, 0, 0, 0, 0, 1, 0, 0, 0, 0,\n",
       "       1, 0, 1, 1, 0, 1, 0, 0, 1, 0, 1, 0, 0, 0, 0, 1, 0, 0, 1, 0, 0, 0,\n",
       "       0, 0, 0, 1, 0, 0, 0, 0, 0, 0, 0, 0, 0, 0, 0, 1, 0, 0, 0, 1, 0, 0,\n",
       "       0, 1, 0, 0, 0, 0, 1, 0, 0, 0, 1, 0, 1, 0, 0, 0, 1, 1, 0, 0, 0, 0,\n",
       "       1, 0, 1, 1, 0, 0, 1, 1, 1, 0, 1, 0, 0, 0, 0, 0, 0, 0, 1, 0, 1, 1,\n",
       "       0, 1, 0, 0, 0, 1, 1, 0, 0, 1, 1, 0, 0, 1, 0, 0, 0, 0, 0, 1, 1, 0,\n",
       "       0, 0, 0, 1, 1, 0, 1, 0, 0, 1, 1, 1, 0, 1, 1, 0, 1, 0, 0, 0, 0, 0,\n",
       "       0, 0, 1, 1, 0, 1, 0, 0, 0, 1, 0, 0, 0, 1, 1, 1, 0, 1, 0, 1, 0, 0,\n",
       "       1, 0, 0, 0, 0, 0, 0, 1, 0, 0, 1, 0, 0, 0, 0, 0, 1, 1, 1, 0, 0, 1,\n",
       "       1, 0, 0, 1, 1, 0, 0, 0, 1, 0, 0, 0, 0, 1, 0, 1, 1, 0, 0, 0, 0, 0,\n",
       "       0, 0, 0, 0, 0, 0, 0, 0, 1, 1, 0, 1, 0, 0, 0, 0, 0, 0, 1, 0, 0, 1,\n",
       "       0, 0, 0, 0, 0, 1, 0, 1, 1, 0, 0, 0, 0, 0, 0, 1, 1, 0, 0, 1, 0, 0,\n",
       "       0, 0, 1, 0, 0, 0, 0, 0, 1, 0, 0, 0, 0, 0, 0, 0, 1, 0, 1, 1, 0, 0,\n",
       "       0, 0, 0, 0, 0, 1, 0, 1, 0, 1, 1, 0, 1, 0, 0, 0, 0, 0, 0, 0, 0, 1,\n",
       "       0, 0, 0, 0, 0, 1, 0, 0, 0, 0, 1, 1, 0, 0, 0, 0, 0, 0, 1, 0, 0, 0,\n",
       "       0, 0, 0, 0, 0, 0, 0, 0, 0, 0, 1, 1, 0, 1, 0, 0, 1, 0, 1, 0, 0, 0,\n",
       "       0, 0, 1, 0, 0, 0, 0, 1, 0, 0, 1, 1, 1, 1, 1, 0, 0, 1, 0, 0, 0, 0,\n",
       "       0, 0, 0, 0, 0, 0, 0, 0, 0, 0, 0, 0, 0, 1, 0, 1, 0, 0, 0, 0, 1, 0,\n",
       "       1, 0, 0, 1, 0, 0, 1, 1, 0, 0, 0, 0, 0, 1, 0, 1, 1, 1, 0, 0, 0, 0,\n",
       "       0, 1, 1, 0, 0, 0, 0, 0, 0, 0, 0, 0, 0, 0, 0, 0, 0, 1, 0, 1, 0, 0,\n",
       "       0, 1, 0, 0, 1, 0, 1, 0, 0, 1, 0, 1, 0, 0, 1, 1, 0, 1, 0, 0, 0, 1,\n",
       "       0, 0, 0, 0, 0, 1, 0, 0, 1, 1, 1, 0, 0, 0, 1, 0, 1, 0, 1, 0, 1, 0,\n",
       "       1, 0, 1, 0, 0, 0, 0, 0, 1, 0, 0, 1, 0, 1, 0, 0, 0, 0, 0, 1, 1, 1,\n",
       "       0, 0, 0, 0, 0, 0, 0, 1, 0, 0, 0, 0, 0, 0, 0, 0, 0, 1, 0, 0, 0, 0,\n",
       "       0, 0, 1, 0, 0, 1, 0, 0, 0, 1, 0, 1, 1, 0, 0, 1, 0, 0, 1, 1, 0, 1,\n",
       "       0, 0, 1, 1, 0, 1, 0, 0, 1, 1, 0, 0, 1, 0, 0, 0, 0, 0, 0, 0, 0, 1,\n",
       "       0, 0, 0, 1, 0, 0, 0, 0, 0, 0, 0, 0, 0, 0, 0, 0, 0, 1, 0, 0, 0, 0,\n",
       "       0, 0, 0, 0, 0, 0, 0, 0, 0, 1, 1, 0, 0, 1, 0, 0, 0, 0, 1, 1, 1, 0,\n",
       "       0, 0, 0, 1, 0, 0, 0, 0, 1, 0, 0, 0, 1, 0, 1, 0, 0, 0, 0, 0, 0, 1,\n",
       "       1, 0, 1, 0, 0, 1, 1, 0, 1, 1, 0, 0, 0, 1, 0, 0, 0, 1, 0, 1, 0, 0,\n",
       "       0, 0, 0, 0, 1, 0, 0, 0, 1, 0, 0, 1, 0, 1, 1, 0, 0, 0, 1, 1, 1, 0,\n",
       "       1, 0, 0, 0, 0, 0, 0, 0, 0, 0, 1, 1, 1, 0, 0, 0, 1, 1, 0, 0, 0, 0,\n",
       "       0, 1, 0, 0, 0, 0, 0, 0, 0, 1, 0, 0, 0, 1, 0, 0, 1, 1, 0, 1, 1, 0,\n",
       "       1, 0, 0, 0, 0, 1, 1, 0, 0, 1, 0, 0, 0, 0, 0, 0, 1, 1, 0, 1, 0, 0,\n",
       "       0, 0, 0, 1, 0, 0, 0, 0, 1, 0, 0, 0, 0, 1, 0, 0, 0, 1, 0, 1, 0, 0,\n",
       "       0, 0, 0, 0, 0, 0])"
      ]
     },
     "execution_count": 504,
     "metadata": {},
     "output_type": "execute_result"
    }
   ],
   "source": [
    "#see the result of the encoder \n",
    "y_test_encoded\n"
   ]
  },
  {
   "cell_type": "code",
   "execution_count": 533,
   "metadata": {},
   "outputs": [],
   "source": [
    "#define a class to try different models \n",
    "class MLmodels():\n",
    "    \n",
    "    #init class\n",
    "    def __init__(self, xTrain, xTest, yTrain, yTest):\n",
    "        self.xTrain=xTrain\n",
    "        self.xTest=xTest\n",
    "        self.yTrain=yTrain\n",
    "        self.yTest=yTest\n",
    "        \n",
    "    #show the results of the accurracy of the model between actual and precdiciton\n",
    "    def showAcurracy(self, actual, pred):\n",
    "        #calculate the accuracy\n",
    "        accuracy = accuracy_score(actual, pred)\n",
    "        #print the accurracy \n",
    "        print(f'The Acurracy is: {accuracy} ')\n",
    "        \n",
    "        pass\n",
    "        \n",
    "    #show the results of the precision of the model between actual and precdiciton\n",
    "    def showPrecision(self, actual, pred):\n",
    "        #calculate the precision\n",
    "        precision = precision_score(actual, pred)\n",
    "        #print the precision \n",
    "        print(f'The Precision is: {precision} ')\n",
    "        pass\n",
    "        \n",
    "    #show the results of the f1 of the model between actual and precdiciton\n",
    "    def showF1(self, actual, pred):\n",
    "        #calculate the f1\n",
    "        f1 = f1_score(actual, pred)\n",
    "        #print the f1 \n",
    "        print(f'The f1 is: {f1} ')\n",
    "        \n",
    "    #show the results of the recall of the model between actual and precdiciton\n",
    "    def showRecall(self, actual, pred):\n",
    "        #calculate the recall\n",
    "        recall = recall_score(actual, pred)\n",
    "        #print the recall \n",
    "        print(f'The recall is: {recall} ')\n",
    "        pass\n",
    "    \n",
    "    #show the confusion matrix\n",
    "    def showMatrix(self, actual, pred):\n",
    "        #confusion matrix\n",
    "        print(confusion_matrix(actual, pred))\n",
    "       \n",
    "        pass\n",
    "    \n",
    "         \n",
    "\n",
    "    #Random forest Classifier \n",
    "    def randomForestClass(self):\n",
    "        #init the model\n",
    "        randomF = RandomForestClassifier()\n",
    "        #train the model\n",
    "        randomF.fit(self.xTrain,  self.yTrain)\n",
    "\n",
    "        #predcit with train \n",
    "        trainPred = randomF.predict(self.xTrain)\n",
    "        \n",
    "        #show train metrics\n",
    "        print('Train Metrics Results:\\n')\n",
    "        #call the functions to calculate the metrics and show the results\n",
    "        \n",
    "        self.showAcurracy(self.yTrain,trainPred)\n",
    "        self.showPrecision(self.yTrain,trainPred)\n",
    "        self.showRecall(self.yTrain,trainPred)\n",
    "        self.showF1(self.yTrain,trainPred)\n",
    "        \n",
    "        #predict with test \n",
    "        testPred = randomF.predict(self.xTest)\n",
    "        \n",
    "        #show test metrics\n",
    "        print('\\nTest Metrics Results: \\n')\n",
    "        #call the functions to calculate the metrics and show the results\n",
    "        self.showAcurracy(self.yTest,testPred)\n",
    "        self.showPrecision(self.yTest,testPred)\n",
    "        self.showRecall(self.yTest,testPred)\n",
    "        self.showF1(self.yTest,testPred)\n",
    "        \n",
    "        #show the confusion matrix for test pred \n",
    "        self.showMatrix(self.yTest,testPred)\n",
    "        pass\n",
    "    \n",
    "    #Naive Bayes classifier for multinomial models\n",
    "    def naiveBayesClass(self):\n",
    "        #init the model\n",
    "        naivesBayes = MultinomialNB()\n",
    "        #train the model\n",
    "        naivesBayes.fit(self.xTrain,  self.yTrain)\n",
    "\n",
    "        #predcit with train \n",
    "        trainPred = naivesBayes.predict(self.xTrain)\n",
    "        \n",
    "        #show train metrics\n",
    "        print(' MultinomialNB Train Metrics Results:\\n')\n",
    "        #call the functions to calculate the metrics and show the results\n",
    "        \n",
    "        self.showAcurracy(self.yTrain,trainPred)\n",
    "        self.showPrecision(self.yTrain,trainPred)\n",
    "        self.showRecall(self.yTrain,trainPred)\n",
    "        self.showF1(self.yTrain,trainPred)\n",
    "        \n",
    "        #predict with test \n",
    "        testPred = naivesBayes.predict(self.xTest)\n",
    "        \n",
    "        #show test metrics\n",
    "        print('\\n MultinomialNB Test Metrics Results: \\n')\n",
    "        #call the functions to calculate the metrics and show the results\n",
    "        self.showAcurracy(self.yTest,testPred)\n",
    "        self.showPrecision(self.yTest,testPred)\n",
    "        self.showRecall(self.yTest,testPred)\n",
    "        self.showF1(self.yTest,testPred)\n",
    "        \n",
    "        #show the confusion matrix for test pred \n",
    "        self.showMatrix(self.yTest,testPred)\n",
    "        \n",
    "        pass\n",
    "    \n",
    "\n",
    "  \n",
    "    "
   ]
  },
  {
   "cell_type": "code",
   "execution_count": 534,
   "metadata": {},
   "outputs": [
    {
     "name": "stdout",
     "output_type": "stream",
     "text": [
      " MultinomialNB Train Metrics Results:\n",
      "\n",
      "The Acurracy is: 0.966325369738339 \n",
      "The Precision is: 0.999113475177305 \n",
      "The recall is: 0.8846153846153846 \n",
      "The f1 is: 0.9383846794338052 \n",
      "\n",
      " MultinomialNB Test Metrics Results: \n",
      "\n",
      "The Acurracy is: 0.9123711340206185 \n",
      "The Precision is: 1.0 \n",
      "The recall is: 0.6977777777777778 \n",
      "The f1 is: 0.8219895287958116 \n",
      "[[551   0]\n",
      " [ 68 157]]\n",
      "Train Metrics Results:\n",
      "\n",
      "The Acurracy is: 1.0 \n",
      "The Precision is: 1.0 \n",
      "The recall is: 1.0 \n",
      "The f1 is: 1.0 \n",
      "\n",
      "Test Metrics Results: \n",
      "\n",
      "The Acurracy is: 0.9806701030927835 \n",
      "The Precision is: 0.9525862068965517 \n",
      "The recall is: 0.9822222222222222 \n",
      "The f1 is: 0.9671772428884026 \n",
      "[[540  11]\n",
      " [  4 221]]\n"
     ]
    }
   ],
   "source": [
    "  \n",
    "#create a instance of the class mlmodels\n",
    "mlModel = MLmodels(X_train, X_test, y_train_encoded, y_test_encoded)\n",
    "#call naives bayes classifier\n",
    "mlModel.naiveBayesClass()\n",
    "#call random forest classifier \n",
    "mlModel.randomForestClass()\n",
    "\n"
   ]
  },
  {
   "cell_type": "code",
   "execution_count": null,
   "metadata": {},
   "outputs": [],
   "source": []
  }
 ],
 "metadata": {
  "colab": {
   "provenance": []
  },
  "kernelspec": {
   "display_name": "Python 3 (ipykernel)",
   "language": "python",
   "name": "python3"
  },
  "language_info": {
   "codemirror_mode": {
    "name": "ipython",
    "version": 3
   },
   "file_extension": ".py",
   "mimetype": "text/x-python",
   "name": "python",
   "nbconvert_exporter": "python",
   "pygments_lexer": "ipython3",
   "version": "3.11.5"
  }
 },
 "nbformat": 4,
 "nbformat_minor": 1
}
